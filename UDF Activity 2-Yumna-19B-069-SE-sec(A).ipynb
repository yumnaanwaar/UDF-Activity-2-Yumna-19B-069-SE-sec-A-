{
 "cells": [
  {
   "cell_type": "markdown",
   "metadata": {},
   "source": [
    "# Yumna Anwaar 19B-069-se-Sec-A"
   ]
  },
  {
   "cell_type": "markdown",
   "metadata": {},
   "source": [
    "# Python User Define Function Practice Activity - 2 "
   ]
  },
  {
   "cell_type": "markdown",
   "metadata": {},
   "source": [
    "Asst. Prof. Syed Faisal Ali              $\\;\\;\\;\\;\\;\\;$              Programming Fundamentals - FALL 2019 $\\;\\;\\;\\;\\;\\;$ Software Engineering                     $\\;\\;\\;\\;\\;\\;$                   Dated: 27 Nov 2019"
   ]
  },
  {
   "cell_type": "markdown",
   "metadata": {},
   "source": [
    "Question 1: Create a function to find the following:\n",
    "If the base of triangle is 3 cm long and its equilateral triangle and the radius of circle is 1.5 cm then find the area of triangle shaded. \n"
   ]
  },
  {
   "cell_type": "markdown",
   "metadata": {},
   "source": [
    "![proj](q1.jpg)"
   ]
  },
  {
   "cell_type": "code",
   "execution_count": 4,
   "metadata": {},
   "outputs": [
    {
     "name": "stdout",
     "output_type": "stream",
     "text": [
      "Enter side of equilateral triangle in cm: 3\n",
      "Enter radius of circle in cm: 1.5\n",
      "3.897114317029974\n",
      "Area of shaded region is:  16.31410243160281 cm²\n"
     ]
    }
   ],
   "source": [
    "from math import pi, sin\n",
    "\n",
    "def ShadedArea(base,radius):\n",
    "    height = base*(sin(60*pi/180)) \n",
    "    area = (1/2)*base*height\n",
    "    print(area)\n",
    "    area_circle = pi*radius**2\n",
    "    area_shaded = (area*6)-(area_circle)\n",
    "    print(\"Area of shaded region is: \",area_shaded,\"cm\\u00b2\")\n",
    "    return\n",
    "base = eval(input(\"Enter side of equilateral triangle in cm: \"))\n",
    "radius = eval(input(\"Enter radius of circle in cm: \"))\n",
    "ShadedArea(base,radius)\n",
    "    "
   ]
  },
  {
   "cell_type": "markdown",
   "metadata": {},
   "source": [
    "Question 2: Create a function which can read a dictionary of your family members such as 5 members. \n",
    "1 Abbu, 1 Ammi, 2 Brothers 1 Sister. Now feed this data in dictionary in terms of name and relations.\n",
    "The UDF will ask findrelation() in this you will enter Brother it will return the names of two brothers you have inserted. In case if the relation is not found it will return “Sorry the relation doesn’t exist in your family.” \n"
   ]
  },
  {
   "cell_type": "code",
   "execution_count": 1,
   "metadata": {},
   "outputs": [
    {
     "name": "stdout",
     "output_type": "stream",
     "text": [
      "Find relation ship: sister\n",
      "name:  Ayehsa\n"
     ]
    }
   ],
   "source": [
    "def findrelation(x):\n",
    "    family = {\"father\":\"Anwaar Ahmed\",\"mother\":\"Sarwat\",\"brother\":\"Zubair , Talha\",\"sister\":\"Ayehsa\"}\n",
    "    if x == \"brother\" or x == \"sister\" or x == \"mother\" or x==\"father\":\n",
    "        print(\"name: \",family[x])\n",
    "        \n",
    "    else:\n",
    "        print(\"No relation found!\")\n",
    "    return\n",
    "x=input(\"Find relation ship: \")\n",
    "findrelation(x)\n"
   ]
  },
  {
   "cell_type": "markdown",
   "metadata": {},
   "source": [
    "Question 3: Create a function to find the following:\n",
    "If the base of triangle is 5 cm long and its equilateral triangle and the radius of circle is 2.25 cm then find the area of triangle shaded. \n"
   ]
  },
  {
   "cell_type": "markdown",
   "metadata": {},
   "source": [
    "![proj](q3.jpg)"
   ]
  },
  {
   "cell_type": "code",
   "execution_count": 38,
   "metadata": {},
   "outputs": [
    {
     "name": "stdout",
     "output_type": "stream",
     "text": [
      "Enter radius in cm: 2.25\n",
      "Shaded area in one triangle is:  2.650718801466388 cm²\n"
     ]
    }
   ],
   "source": [
    "from math import pi\n",
    "\n",
    "def shadedarea(radius):\n",
    "    area = (pi* radius**2)/6\n",
    "    print(\"Shaded area in one triangle is: \",area,\"cm\\u00b2\")\n",
    "    return\n",
    "radius = eval(input(\"Enter radius in cm: \"))\n",
    "shadedarea(radius)"
   ]
  },
  {
   "cell_type": "markdown",
   "metadata": {},
   "source": [
    "Question 4:\n",
    "Create a function that takes a list of random numbers from users and add only those which are even. If all the numbers are odd it will return sorry no even number found.\n"
   ]
  },
  {
   "cell_type": "code",
   "execution_count": 30,
   "metadata": {},
   "outputs": [
    {
     "name": "stdout",
     "output_type": "stream",
     "text": [
      "Enter the size of list: 4\n",
      "Enter the location 0\n",
      "1\n",
      "Enter the location 1\n",
      "2\n",
      "Enter the location 2\n",
      "3\n",
      "Enter the location 3\n",
      "4\n",
      "Sorry odd number\n",
      "[2]\n",
      "The sum of even number in list is:  2\n",
      "[2, 4]\n",
      "The sum of even number in list is:  6\n",
      "Sorry odd number\n",
      "[2, 4, 2]\n",
      "The sum of even number in list is:  8\n",
      "[2, 4, 2, 4]\n",
      "The sum of even number in list is:  12\n"
     ]
    }
   ],
   "source": [
    "list=[]\n",
    "x=int(input(\"Enter the size of list: \"))\n",
    "for i in range(0,x):\n",
    "    print(\"Enter the location\",i)\n",
    "    number = int(input())\n",
    "    list.append(number)\n",
    "def addeven(list):\n",
    "    even=[]\n",
    "    odd=[]\n",
    "    for i in list:\n",
    "        if (i % 2 == 1):\n",
    "            print(\"Sorry odd number\")\n",
    "            for i in list:\n",
    "                if(i % 2== 0):\n",
    "                    even.append(i)\n",
    "                    print(even)\n",
    "                    sumeven = sum(even)\n",
    "                    print(\"The sum of even number in list is: \",sumeven)\n",
    "    return\n",
    "\n",
    "addeven(list)"
   ]
  },
  {
   "cell_type": "markdown",
   "metadata": {},
   "source": [
    "Question 5:\n",
    "Write a function which can take a list of numbers and it will return sorted list.\n"
   ]
  },
  {
   "cell_type": "code",
   "execution_count": 12,
   "metadata": {},
   "outputs": [
    {
     "name": "stdout",
     "output_type": "stream",
     "text": [
      "Enter how many number you want to add: 3\n",
      "1\n",
      "6\n",
      "3\n",
      "['1', '3', '6']\n"
     ]
    }
   ],
   "source": [
    "def sortedlst(n):\n",
    "    lst=[]\n",
    "    for i in range(0,n):\n",
    "        x = input()\n",
    "        lst.append(x)\n",
    "    y = lst.sort()\n",
    "    print(lst)\n",
    "    return\n",
    "n= int(input(\"Enter how many number you want to add: \"))\n",
    "sortedlst(n)"
   ]
  },
  {
   "cell_type": "markdown",
   "metadata": {},
   "source": [
    "Question 6:\n",
    "Write a function that will take the radius and return the perimeter and area of circle with 5% increment.\n"
   ]
  },
  {
   "cell_type": "code",
   "execution_count": 15,
   "metadata": {},
   "outputs": [
    {
     "name": "stdout",
     "output_type": "stream",
     "text": [
      "Enter radius in cm: 3\n",
      "Area of Circle is:  28.274333882308138 cm² \n",
      "Perimeter of Circle is:  18.84955592153876 cm\n",
      "5% increment of area:  29.688050576423546 cm² \n",
      "5% increment of area: 19.792033717615695 cm\n"
     ]
    }
   ],
   "source": [
    "from math import pi\n",
    "def circle(radius):\n",
    "    area = pi*radius**2\n",
    "    peri = 2*pi*radius\n",
    "    inc_area= area * 0.05\n",
    "    inc_peri = peri * 0.05\n",
    "    print(\"Area of Circle is: \",area,\"cm\\u00b2 \\nPerimeter of Circle is: \",peri,\"cm\")\n",
    "    print(\"5% increment of area: \",area+inc_area,\"cm\\u00b2 \\n5% increment of area:\",peri+inc_peri,\"cm\")\n",
    "    return\n",
    "radius = eval(input(\"Enter radius in cm: \"))\n",
    "circle(radius)"
   ]
  },
  {
   "cell_type": "markdown",
   "metadata": {},
   "source": [
    "Question 7:\n",
    "Write a function that will take the strings as argument and return number of vowels and consonants.\n"
   ]
  },
  {
   "cell_type": "code",
   "execution_count": 2,
   "metadata": {},
   "outputs": [
    {
     "name": "stdout",
     "output_type": "stream",
     "text": [
      "Enter your nameYUMNA\n",
      "The number of vowels in  YUMNA is 2 \n",
      "The number of consonants is 3\n"
     ]
    }
   ],
   "source": [
    "def counter(name):\n",
    "    #initiallize vowel to zero\n",
    "    v = 0\n",
    "    #initialize consonants to zero\n",
    "    c = 0\n",
    "    for i in name:\n",
    "        if i in \"AEIOUaeiou\":\n",
    "            v +=1\n",
    "        else:\n",
    "            c +=1\n",
    "    print(\"The number of vowels in \",name,\"is\",v,\"\\nThe number of consonants is\",c)\n",
    "    return\n",
    "name= str(input(\"Enter your name\"))\n",
    "counter(name)"
   ]
  },
  {
   "cell_type": "markdown",
   "metadata": {},
   "source": [
    "Question 8:\n",
    "Write a function that will take length and breadth for a rectangle and return perimeter and area of rectangle with 8% increment.\n"
   ]
  },
  {
   "cell_type": "code",
   "execution_count": 16,
   "metadata": {},
   "outputs": [
    {
     "name": "stdout",
     "output_type": "stream",
     "text": [
      "Enter length in cm: 3\n",
      "Enter breadth in cm: 4\n",
      "Area of rectangle is:  12 cm² \n",
      "Perimeter of rectangle is:  14 cm\n",
      "8% increment of area:  12.96 cm² \n",
      "8% increment of area: 15.120000000000001 cm\n"
     ]
    }
   ],
   "source": [
    "from math import pi\n",
    "def rec(l,b):\n",
    "    area = l*b\n",
    "    peri = (l*2)+(b*2)\n",
    "    inc_area= area * 0.08\n",
    "    inc_peri = peri * 0.08\n",
    "    print(\"Area of rectangle is: \",area,\"cm\\u00b2 \\nPerimeter of rectangle is: \",peri,\"cm\")\n",
    "    print(\"8% increment of area: \",area+inc_area,\"cm\\u00b2 \\n8% increment of area:\",peri+inc_peri,\"cm\")\n",
    "    return\n",
    "l = eval(input(\"Enter length in cm: \"))\n",
    "b = eval(input(\"Enter breadth in cm: \"))\n",
    "rec(l,b)"
   ]
  },
  {
   "cell_type": "markdown",
   "metadata": {},
   "source": [
    "Question 9:\n",
    "Write a function that can take the numbers in strings. From string find which number is even and which one is odd. Save them in two different lists and generate the result.\n"
   ]
  },
  {
   "cell_type": "code",
   "execution_count": 9,
   "metadata": {},
   "outputs": [
    {
     "name": "stdout",
     "output_type": "stream",
     "text": [
      "Enter your string containing numbers: 45\n",
      "Even list is:  [] \n",
      " Oddlst is:  [45]\n"
     ]
    }
   ],
   "source": [
    "def num(string):\n",
    "    x =[int(i) for i in string.split() if i.isdigit()]\n",
    "    evenlst = []\n",
    "    oddlst = []\n",
    "    for i in x:\n",
    "        if(i % 2 == 0):\n",
    "            evenlst.append(i)\n",
    "        else:\n",
    "            oddlst.append(i)\n",
    "        print(\"Even list is: \",evenlst,\"\\n Oddlst is: \",oddlst)\n",
    "    return\n",
    "string = input(\"Enter your string containing numbers: \")\n",
    "num(string)\n",
    "    "
   ]
  },
  {
   "cell_type": "markdown",
   "metadata": {},
   "source": [
    "Question 10:\n",
    "Write a function which will take the string from the user and return how many alphabets have been used in it and which alphabets are missing.\n"
   ]
  },
  {
   "cell_type": "code",
   "execution_count": null,
   "metadata": {},
   "outputs": [],
   "source": []
  },
  {
   "cell_type": "markdown",
   "metadata": {},
   "source": [
    "Question 11:\n",
    "Write a function that will take verbs in words and return a list of verbs with continuous tense by adding (ing) at the end of each verb.\n"
   ]
  },
  {
   "cell_type": "code",
   "execution_count": 24,
   "metadata": {},
   "outputs": [
    {
     "name": "stdout",
     "output_type": "stream",
     "text": [
      "Enter number of verbs you want to add: 3\n",
      "verbs: ask\n",
      "verbs: enter\n",
      "verbs: cook\n",
      "['asking', 'entering', 'cooking']\n"
     ]
    }
   ],
   "source": [
    "def verb(v,n):\n",
    "    vlst=[]\n",
    "    for i in range(0,n):\n",
    "        v = input(\"verbs: \")\n",
    "        v = v+\"ing\"\n",
    "        vlst.append(v)\n",
    "    print(vlst)\n",
    "    return\n",
    "n=int(input(\"Enter number of verbs you want to add: \"))\n",
    "verb(v,n)"
   ]
  },
  {
   "cell_type": "markdown",
   "metadata": {},
   "source": [
    "Question 12:\n",
    "Make a function which can take two radius of circles and find the areas of it and subtract smaller one from larger one and tell the remaining area of circle.\n"
   ]
  },
  {
   "cell_type": "code",
   "execution_count": 5,
   "metadata": {},
   "outputs": [
    {
     "name": "stdout",
     "output_type": "stream",
     "text": [
      "Enter Radius of first Circle: 3\n",
      "Enter Radius of second Circle: 5\n",
      "Area of 1st circle is:  28.274333882308138 cm²\n",
      "Area of 2nd circle is:  78.53981633974483 cm²\n",
      "The remaining area is:  50.26548245743669 cm²\n"
     ]
    }
   ],
   "source": [
    "from math import pi\n",
    "def area(r1,r2):    \n",
    "    area1 = pi * r1**2\n",
    "    print(\"Area of 1st circle is: \",area1,\"cm\\u00b2\")\n",
    "    area2 = pi * r2**2\n",
    "    print(\"Area of 2nd circle is: \",area2,\"cm\\u00b2\")\n",
    "    if r1 > r2:\n",
    "        x = area1 - area2\n",
    "        print(\"The remaining area is: \",x,\"cm\\u00b2\")\n",
    "    else:\n",
    "        x = area2 - area1\n",
    "        print(\"The remaining area is: \",x,\"cm\\u00b2\")\n",
    "    return\n",
    "r1 = eval(input(\"Enter Radius of first Circle: \"))\n",
    "r2 = eval(input(\"Enter Radius of second Circle: \"))\n",
    "area(r1,r2)"
   ]
  },
  {
   "cell_type": "markdown",
   "metadata": {},
   "source": [
    "Question 13:\n",
    "Write a function that will take a string and calculate number of Upper case letters and lower case letters.\n"
   ]
  },
  {
   "cell_type": "code",
   "execution_count": 4,
   "metadata": {},
   "outputs": [
    {
     "name": "stdout",
     "output_type": "stream",
     "text": [
      "ENter string: YuMna\n",
      "Number of lower case:  3\n",
      "number of upper case:  2\n"
     ]
    }
   ],
   "source": [
    "def counter(s):\n",
    "    c_upper = 0\n",
    "    c_lower = 0\n",
    "    for i in s:\n",
    "        if(i.islower()):\n",
    "            c_lower =c_lower + 1\n",
    "        elif(i.isupper()):\n",
    "            c_upper =c_upper+1\n",
    "    print(\"Number of lower case: \",c_lower)\n",
    "    print(\"number of upper case: \",c_upper)\n",
    "    return\n",
    "s=str(input(\"ENter string: \"))\n",
    "counter(s)"
   ]
  },
  {
   "cell_type": "markdown",
   "metadata": {},
   "source": [
    "Question 14:\n",
    "Write a function which will take length and breadth of two rectangles. Subtract the smaller rectangle from the larger rectangle and return the area left behind.\n"
   ]
  },
  {
   "cell_type": "code",
   "execution_count": 8,
   "metadata": {},
   "outputs": [
    {
     "name": "stdout",
     "output_type": "stream",
     "text": [
      "Enter Length of first rectangle: 3\n",
      "Enter breath of first rectangle: 4\n",
      "Enter breath of second rectangle: 4\n",
      "Enter Length of second rectangle: 5\n",
      "Area of 1st Rectangle is:  12 cm²\n",
      "Area of 2nd Rectangle is:  20 cm²\n",
      "The remaining area is:  8 cm²\n"
     ]
    }
   ],
   "source": [
    "def area(l1,l2,b1,b2):    \n",
    "    area1 = l1 * b1\n",
    "    print(\"Area of 1st Rectangle is: \",area1,\"cm\\u00b2\")\n",
    "    area2 = l2 * b2\n",
    "    print(\"Area of 2nd Rectangle is: \",area2,\"cm\\u00b2\")\n",
    "    if l1 > l2 or b1 > b2:\n",
    "        x = area1 - area2\n",
    "        print(\"The remaining area is: \",x,\"cm\\u00b2\")\n",
    "    else:\n",
    "        x = area2 - area1\n",
    "        print(\"The remaining area is: \",x,\"cm\\u00b2\")\n",
    "    return\n",
    "l1 = eval(input(\"Enter Length of first rectangle: \"))\n",
    "b1 = eval(input(\"Enter breath of first rectangle: \"))\n",
    "b2 = eval(input(\"Enter breath of second rectangle: \"))\n",
    "l2 = eval(input(\"Enter Length of second rectangle: \"))\n",
    "area(l1,l2,b1,b2)"
   ]
  },
  {
   "cell_type": "markdown",
   "metadata": {},
   "source": [
    "Question 15:\n",
    "Create a function that can add the fractions in series such as 1 to 8 = 1/8+1/7+1/6+1/5 …… ½ and return the result in fraction not in decimal.\n"
   ]
  },
  {
   "cell_type": "code",
   "execution_count": 34,
   "metadata": {},
   "outputs": [
    {
     "name": "stdout",
     "output_type": "stream",
     "text": [
      "Enter starting value: 1\n",
      "Enter ending value: 8\n",
      "The sum of fractions is:  363/140\n"
     ]
    }
   ],
   "source": [
    "from fractions import Fraction\n",
    "def addfraction(st_val,lt_val):\n",
    "    sum = 0\n",
    "    for i in range(st_val,lt_val):\n",
    "        sum = sum +Fraction(1,i)\n",
    "    print(\"The sum of fractions is: \",sum)\n",
    "    return\n",
    "st_val = int(input(\"Enter starting value: \"))\n",
    "lt_val = int(input(\"Enter ending value: \"))\n",
    "addfraction(st_val,lt_val)"
   ]
  },
  {
   "cell_type": "markdown",
   "metadata": {},
   "source": [
    "Question 16:\n",
    "Write a function which will take height and base for a triangle and \n"
   ]
  },
  {
   "cell_type": "code",
   "execution_count": null,
   "metadata": {},
   "outputs": [],
   "source": []
  },
  {
   "cell_type": "markdown",
   "metadata": {},
   "source": [
    "Question 17:\n",
    "Write a function which will take a list of fruits names. The function will return how many alphabets are repetitive in the names of fruits and how many are unique letters.\n"
   ]
  },
  {
   "cell_type": "code",
   "execution_count": null,
   "metadata": {},
   "outputs": [],
   "source": []
  },
  {
   "cell_type": "markdown",
   "metadata": {},
   "source": [
    "Question 18:\n",
    "Write a function that can take square length and radius of circle. Find the area of both and subtract the smallest shape from largest one and return the remaining shape area.\n"
   ]
  },
  {
   "cell_type": "code",
   "execution_count": 26,
   "metadata": {},
   "outputs": [
    {
     "name": "stdout",
     "output_type": "stream",
     "text": [
      "Enter Length square: 3\n",
      "Enter radius of Circle: 4\n",
      "Area of Square is:  9 cm²\n",
      "Area of Circle is:  50.26548245743669 cm²\n",
      "The remaining area is:  41.26548245743669 cm²\n"
     ]
    }
   ],
   "source": [
    "from math import pi\n",
    "def area(l,r):    \n",
    "    areaSquare = l**2\n",
    "    print(\"Area of Square is: \",areaSquare,\"cm\\u00b2\")\n",
    "    areaCircle = pi * r**2\n",
    "    print(\"Area of Circle is: \",areaCircle,\"cm\\u00b2\")\n",
    "    if areaSquare > areaCircle:\n",
    "        x = areaSquare - areaCircle\n",
    "        print(\"The remaining area is: \",x,\"cm\\u00b2\")\n",
    "    else:\n",
    "        x = areaCircle - areaSquare\n",
    "        print(\"The remaining area is: \",x,\"cm\\u00b2\")\n",
    "    return\n",
    "l = eval(input(\"Enter Length square: \"))\n",
    "r = eval(input(\"Enter radius of Circle: \"))\n",
    "area(l,r)"
   ]
  }
 ],
 "metadata": {
  "kernelspec": {
   "display_name": "Python 3",
   "language": "python",
   "name": "python3"
  },
  "language_info": {
   "codemirror_mode": {
    "name": "ipython",
    "version": 3
   },
   "file_extension": ".py",
   "mimetype": "text/x-python",
   "name": "python",
   "nbconvert_exporter": "python",
   "pygments_lexer": "ipython3",
   "version": "3.7.4"
  }
 },
 "nbformat": 4,
 "nbformat_minor": 2
}
